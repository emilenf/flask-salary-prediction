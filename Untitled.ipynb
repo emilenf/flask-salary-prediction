{
 "cells": [
  {
   "cell_type": "code",
   "execution_count": 7,
   "metadata": {},
   "outputs": [],
   "source": [
    "import os"
   ]
  },
  {
   "cell_type": "code",
   "execution_count": 8,
   "metadata": {},
   "outputs": [
    {
     "data": {
      "text/plain": [
       "environ{'TERM_PROGRAM': 'Apple_Terminal',\n",
       "        'TERM': 'xterm-color',\n",
       "        'SHELL': '/bin/bash',\n",
       "        'TMPDIR': '/var/folders/rc/vn_sqxpn73148tx5s5l8lnnr0000gn/T/',\n",
       "        'CONDA_SHLVL': '1',\n",
       "        'Apple_PubSub_Socket_Render': '/private/tmp/com.apple.launchd.356YV6mM27/Render',\n",
       "        'CONDA_PROMPT_MODIFIER': '(base) ',\n",
       "        'TERM_PROGRAM_VERSION': '361.2',\n",
       "        'TERM_SESSION_ID': 'D0964F32-5F90-41B0-A018-551DC07F359C',\n",
       "        'USER': 'emilenaffah',\n",
       "        'CONDA_EXE': '/Users/emilenaffah/anaconda3/bin/conda',\n",
       "        'SSH_AUTH_SOCK': '/private/tmp/com.apple.launchd.ULAycIyshA/Listeners',\n",
       "        '__CF_USER_TEXT_ENCODING': '0x1F5:0x0:0x0',\n",
       "        '_CE_CONDA': '',\n",
       "        'PATH': '/Users/emilenaffah/anaconda3/bin:/Users/emilenaffah/anaconda3/condabin:/anaconda3/bin:/usr/local/bin:/usr/local/bin:/Users/emilenaffah/anaconda/bin:/Library/Frameworks/Python.framework/Versions/3.5/bin:/usr/local/bin:/usr/bin:/bin:/usr/sbin:/sbin',\n",
       "        'CONDA_PREFIX': '/Users/emilenaffah/anaconda3',\n",
       "        'PWD': '/Users/emilenaffah/Desktop/Corrige PGAdmin',\n",
       "        'LANG': 'en_GB.UTF-8',\n",
       "        'XPC_FLAGS': '0x0',\n",
       "        '_CE_M': '',\n",
       "        'XPC_SERVICE_NAME': '0',\n",
       "        'HOME': '/Users/emilenaffah',\n",
       "        'SHLVL': '1',\n",
       "        'CONDA_PYTHON_EXE': '/Users/emilenaffah/anaconda3/bin/python',\n",
       "        'LOGNAME': 'emilenaffah',\n",
       "        'CONDA_DEFAULT_ENV': 'base',\n",
       "        '_': '/Users/emilenaffah/anaconda3/bin/jupyter',\n",
       "        'KERNEL_LAUNCH_TIMEOUT': '40',\n",
       "        'JPY_PARENT_PID': '1249',\n",
       "        'CLICOLOR': '1',\n",
       "        'PAGER': 'cat',\n",
       "        'GIT_PAGER': 'cat',\n",
       "        'MPLBACKEND': 'module://ipykernel.pylab.backend_inline'}"
      ]
     },
     "execution_count": 8,
     "metadata": {},
     "output_type": "execute_result"
    }
   ],
   "source": [
    "os.environ"
   ]
  },
  {
   "cell_type": "code",
   "execution_count": null,
   "metadata": {},
   "outputs": [],
   "source": []
  }
 ],
 "metadata": {
  "kernelspec": {
   "display_name": "Python 3",
   "language": "python",
   "name": "python3"
  },
  "language_info": {
   "codemirror_mode": {
    "name": "ipython",
    "version": 3
   },
   "file_extension": ".py",
   "mimetype": "text/x-python",
   "name": "python",
   "nbconvert_exporter": "python",
   "pygments_lexer": "ipython3",
   "version": "3.7.3"
  }
 },
 "nbformat": 4,
 "nbformat_minor": 4
}
